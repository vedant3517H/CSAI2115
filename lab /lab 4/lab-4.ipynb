{
 "cells": [
  {
   "cell_type": "markdown",
   "metadata": {},
   "source": [
    "Write a python program to import and export data using Pandas and show the details of the dataset like number of rows, columns, first five rows, size, number of missing values, sum, average, min and max values from the numerical columns."
   ]
  },
  {
   "cell_type": "code",
   "execution_count": 1,
   "metadata": {},
   "outputs": [],
   "source": [
    "import pandas as pd"
   ]
  },
  {
   "cell_type": "code",
   "execution_count": 2,
   "metadata": {},
   "outputs": [],
   "source": [
    "df1 = pd.read_csv('Normal-ECG.csv')\n",
    "df2 = pd.read_csv('Dia-ECG.csv')"
   ]
  },
  {
   "cell_type": "code",
   "execution_count": 3,
   "metadata": {},
   "outputs": [],
   "source": [
    "mean_value = df1.mean()\n",
    "max_value = df1.max()\n",
    "min_value = df1.min()\n",
    "std_dev = df1.std()\n",
    "median_value = df1.median()"
   ]
  },
  {
   "cell_type": "code",
   "execution_count": 4,
   "metadata": {},
   "outputs": [
    {
     "name": "stdout",
     "output_type": "stream",
     "text": [
      "Mean value:\n",
      " 6   -0.129339\n",
      "dtype: float64\n",
      "\n",
      "Max value:\n",
      " 6    735\n",
      "dtype: int64\n",
      "\n",
      "Min value:\n",
      " 6   -961\n",
      "dtype: int64\n",
      "\n",
      "Standard Deviation:\n",
      " 6    89.986215\n",
      "dtype: float64\n",
      "\n",
      "Median value:\n",
      " 6   -2.0\n",
      "dtype: float64\n"
     ]
    }
   ],
   "source": [
    "print(\"Mean value:\\n\", mean_value)\n",
    "print(\"\\nMax value:\\n\", max_value)\n",
    "print(\"\\nMin value:\\n\", min_value)\n",
    "print(\"\\nStandard Deviation:\\n\", std_dev)\n",
    "print(\"\\nMedian value:\\n\", median_value)"
   ]
  },
  {
   "cell_type": "code",
   "execution_count": 5,
   "metadata": {},
   "outputs": [],
   "source": [
    "df2.replace(['ekg', 'uv'], 0, inplace=True)"
   ]
  },
  {
   "cell_type": "code",
   "execution_count": 6,
   "metadata": {},
   "outputs": [],
   "source": [
    "mean_value = df2.mean()\n",
    "max_value = df2.max()\n",
    "min_value = df2.min()\n",
    "std_dev = df2.std()\n",
    "median_value = df2.median()"
   ]
  },
  {
   "cell_type": "code",
   "execution_count": 7,
   "metadata": {},
   "outputs": [
    {
     "name": "stdout",
     "output_type": "stream",
     "text": [
      "Mean value:\n",
      " -38   -0.225438\n",
      "dtype: float64\n",
      "\n",
      "Max value:\n",
      " -38    584\n",
      "dtype: int64\n",
      "\n",
      "Min value:\n",
      " -38   -1741\n",
      "dtype: int64\n",
      "\n",
      "Standard Deviation:\n",
      " -38    66.430087\n",
      "dtype: float64\n",
      "\n",
      "Median value:\n",
      " -38    1.0\n",
      "dtype: float64\n"
     ]
    }
   ],
   "source": [
    "print(\"Mean value:\\n\", mean_value)\n",
    "print(\"\\nMax value:\\n\", max_value)\n",
    "print(\"\\nMin value:\\n\", min_value)\n",
    "print(\"\\nStandard Deviation:\\n\", std_dev)\n",
    "print(\"\\nMedian value:\\n\", median_value)"
   ]
  },
  {
   "cell_type": "markdown",
   "metadata": {},
   "source": [
    "## Comparison Table\n",
    "\n",
    "| Statistic   | ECG         | Diabetes-ECG     |\n",
    "|-------------|-------------|-------------|\n",
    "| MEAN   | -0.129339    | -0.225438    |\n",
    "| MEDIAN | -2          | 1           |\n",
    "| **STD DEV** | **89.986215** | **66.430087** |\n",
    "| MAX VALUE | 735        | 584         |\n",
    "| MIN VALUE | -961       | -1741       |\n"
   ]
  }
 ],
 "metadata": {
  "kernelspec": {
   "display_name": "Python 3",
   "language": "python",
   "name": "python3"
  },
  "language_info": {
   "codemirror_mode": {
    "name": "ipython",
    "version": 3
   },
   "file_extension": ".py",
   "mimetype": "text/x-python",
   "name": "python",
   "nbconvert_exporter": "python",
   "pygments_lexer": "ipython3",
   "version": "3.12.5"
  }
 },
 "nbformat": 4,
 "nbformat_minor": 2
}
